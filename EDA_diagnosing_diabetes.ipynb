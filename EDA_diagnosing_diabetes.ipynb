{
 "cells": [
  {
   "cell_type": "code",
   "execution_count": null,
   "id": "4d82b117",
   "metadata": {},
   "outputs": [],
   "source": [
    "import codecademylib3\n",
    "import pandas as pd\n",
    "import numpy as np\n",
    "\n",
    "# code goes here\n",
    "diabetes_data = pd.read_csv(\"diabetes.csv\")\n",
    "print(diabetes_data.head())\n",
    "\n",
    "# Checking for number of columns of dataset:\n",
    "print(len(diabetes_data.columns))\n",
    "\n",
    "# Checking for number of rows of dataset:\n",
    "print(len(diabetes_data))\n",
    "\n",
    "# Checking for columns with missing values:\n",
    "print(diabetes_data.isna().sum())\n",
    "\n",
    "print(diabetes_data.describe(include=\"all\"))\n",
    "\n",
    "# Replace the instances of 0 with NaN:\n",
    "diabetes_data[['Glucose','BloodPressure','SkinThickness','Insulin','BMI']] = diabetes_data[['Glucose','BloodPressure','SkinThickness','Insulin','BMI']].replace(0,np.NaN)\n",
    "\n",
    "# Checking for columns with missing values:\n",
    "print(diabetes_data.isna().sum())\n",
    "\n",
    "# Printing out rows that contain missing(null) values:\n",
    "print(diabetes_data[diabetes_data.isnull().any(axis=1)])\n",
    "\n",
    "# Checking for datatype for each column:\n",
    "print(diabetes_data.dtypes)\n",
    "\n",
    "# Cheecking for unique values in the Outcome column:\n",
    "print(diabetes_data.Outcome.unique())\n",
    "\n",
    "# Replacing instancs of \"O\" with 0:\n",
    "diabetes_data.Outcome = diabetes_data.Outcome.replace(\"O\", 0).astype(int)"
   ]
  },
  {
   "cell_type": "code",
   "execution_count": null,
   "id": "8ebd2722",
   "metadata": {},
   "outputs": [],
   "source": []
  }
 ],
 "metadata": {
  "kernelspec": {
   "display_name": "Python 3",
   "language": "python",
   "name": "python3"
  },
  "language_info": {
   "codemirror_mode": {
    "name": "ipython",
    "version": 3
   },
   "file_extension": ".py",
   "mimetype": "text/x-python",
   "name": "python",
   "nbconvert_exporter": "python",
   "pygments_lexer": "ipython3",
   "version": "3.9.1"
  }
 },
 "nbformat": 4,
 "nbformat_minor": 5
}
